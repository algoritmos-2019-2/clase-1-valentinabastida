{
 "cells": [
  {
   "cell_type": "markdown",
   "metadata": {},
   "source": [
    "# Preguntas "
   ]
  },
  {
   "cell_type": "markdown",
   "metadata": {},
   "source": [
    "## Funciones"
   ]
  },
  {
   "cell_type": "markdown",
   "metadata": {},
   "source": [
    "* ¿Por qué son ventajosas las funciones para tener en sus programas?\n",
    "\n",
    "Porque da acceso a muchas herramientas de trabajo, lo cual hace que sea más fácil dar características al programa.\n",
    "* ¿ Cuándo se ejecuta la función: cuándo se ejecuta la función o cuándo se llama a la función? \n",
    "\n",
    "\n",
    "* ¿Qué enunciado crea una función?\n",
    "\n",
    "def \"función\"()\n",
    "\n",
    "* ¿ Cuál es la diferencia entre una función y una llamada de función?\n",
    "\n",
    "La función es la que uno define, mientras que la llamada de función ejecuta la función ya definida. \n",
    "\n",
    "* ¿ Cuántos ámbitos globales hay en un programa de Python? ¿Cuántos ámbitos locales?\n",
    "\n",
    "Uno puede definir todos los ámbitos globales que uno quiera, así mismo con los ámbitos locales  \n",
    "\n",
    "* ¿ Qué sucede con las variables en un ámbito local cuando se devuelve la llamada a la función?\n",
    "\n",
    "\n",
    "\n",
    "* ¿Qué es un valor de retorno? ¿Puede un valor de retorno ser parte de una expresión?\n",
    "\n",
    " Un valor de retorno es un valor que regresa una declaración hecha antes, es el valor de salida. \n",
    "\n",
    "* Si una función no tiene una declaración de retorno, ¿Cuál es el valor de retorno de una llamada a esa función?\n",
    "\n",
    "No da ningún valor de retorno. \n",
    "\n",
    "* ¿Cómo puede forzar una variable en una función para referirse a la variable global? \n",
    "\n",
    "Si la función global ya se definió, entonces basta con escribir la función exactamente de la misma forma. \n",
    "\n",
    "* ¿Cuál es el tipo de datos de None?\n",
    "\n",
    "Datos vacíos, son datos que no existen.\n",
    "\n",
    "* ¿Qué hace la declaración import random?\n",
    "\n",
    "Te datos aleatorios\n",
    "\n",
    "* Si tuviera una función llamada randint() en un módulo llamado random ¿cómo lo llamaría después de importar random? \n",
    "\n",
    "Se llama como random.randint()"
   ]
  },
  {
   "cell_type": "markdown",
   "metadata": {},
   "source": [
    "## Listas y tuplas"
   ]
  },
  {
   "cell_type": "markdown",
   "metadata": {},
   "source": [
    "* ¿Qué es []?\n",
    "\n",
    "Se utilizan los corchetes para definir una lista. \n",
    "\n",
    "* ¿Cómo asignaría el valor 'hola' como el tercer valor en una lista almacenada? \n",
    "\n",
    "Se asigna con list.insert(2,\"hola\") \n",
    "\n",
    "* \n",
    "\n"
   ]
  }
 ],
 "metadata": {
  "kernelspec": {
   "display_name": "Python 3",
   "language": "python",
   "name": "python3"
  },
  "language_info": {
   "codemirror_mode": {
    "name": "ipython",
    "version": 3
   },
   "file_extension": ".py",
   "mimetype": "text/x-python",
   "name": "python",
   "nbconvert_exporter": "python",
   "pygments_lexer": "ipython3",
   "version": "3.7.2"
  }
 },
 "nbformat": 4,
 "nbformat_minor": 2
}
